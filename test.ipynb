{
 "cells": [
  {
   "cell_type": "code",
   "execution_count": 1,
   "metadata": {},
   "outputs": [],
   "source": [
    "from env import *\n",
    "\n",
    "@njit()\n",
    "def bot_lv0(state, per):\n",
    "    validActions = getValidActions(state)\n",
    "    actions = np.where(validActions)[0]\n",
    "    action = actions[np.random.randint(0, actions.shape[0])]\n",
    "    return action, per\n",
    "\n",
    "@njit()\n",
    "def bot_lv0_An(state, per):\n",
    "    validActions = getValidActions(state)\n",
    "    actions = np.where(validActions)[0]\n",
    "    action = actions[np.random.randint(0, actions.shape[0])]\n",
    "    per[getReward(state)] += 1\n",
    "    \n",
    "    return action, per"
   ]
  },
  {
   "cell_type": "code",
   "execution_count": 2,
   "metadata": {},
   "outputs": [
    {
     "data": {
      "text/plain": [
       "(array([510, 557, 468, 452,  13]),\n",
       " array([   1548,     452, 1341262], dtype=int64))"
      ]
     },
     "execution_count": 2,
     "metadata": {},
     "output_type": "execute_result"
    }
   ],
   "source": [
    "per = np.zeros(3, np.int64)\n",
    "win, per = normal_main([bot_lv0]*3 + [bot_lv0_An], 2000, per)\n",
    "win, per"
   ]
  }
 ],
 "metadata": {
  "kernelspec": {
   "display_name": "Python 3",
   "language": "python",
   "name": "python3"
  },
  "language_info": {
   "codemirror_mode": {
    "name": "ipython",
    "version": 3
   },
   "file_extension": ".py",
   "mimetype": "text/x-python",
   "name": "python",
   "nbconvert_exporter": "python",
   "pygments_lexer": "ipython3",
   "version": "3.10.9"
  },
  "orig_nbformat": 4,
  "vscode": {
   "interpreter": {
    "hash": "9aef4f9ca9773b159aa853cd9e8b578a0bcf10fc07e4ea62b76fecf3cbb83bd6"
   }
  }
 },
 "nbformat": 4,
 "nbformat_minor": 2
}
